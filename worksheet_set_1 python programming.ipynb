{
 "cells": [
  {
   "cell_type": "code",
   "execution_count": 4,
   "id": "84da29fc",
   "metadata": {},
   "outputs": [
    {
     "name": "stdout",
     "output_type": "stream",
     "text": [
      "enter the number:4\n",
      "factorial of a num  4 (function:)24\n"
     ]
    }
   ],
   "source": [
    "#write a program to find a factorial of a number\n",
    "#by using in build function in python \n",
    "import math\n",
    "num=int(input(\"enter the number:\"))\n",
    "print(\"factorial of a num \",num,\"(function:)\",end=\"\")\n",
    "print(math.factorial(num))"
   ]
  },
  {
   "cell_type": "code",
   "execution_count": 6,
   "id": "ce4d6321",
   "metadata": {},
   "outputs": [
    {
     "name": "stdout",
     "output_type": "stream",
     "text": [
      "enter the number:33\n",
      "33 is not a Prime Number\n"
     ]
    }
   ],
   "source": [
    "#Write a python program to find whether a number is prime or composite.\n",
    "number=int(input(\"enter the number:\"))\n",
    "if number > 1:\n",
    "    for i in range(2,int(number/2)+1):\n",
    "        if (number % i == 0):\n",
    "            print(number, \"is not a Prime Number\")\n",
    "            break\n",
    "    else:\n",
    "        print(number,\"is a Prime number\")\n",
    "# If the number is less than 1 it can't be Prime\n",
    "else:\n",
    "    print(number,\"is not a Prime number\")"
   ]
  },
  {
   "cell_type": "code",
   "execution_count": 8,
   "id": "3b475404",
   "metadata": {},
   "outputs": [
    {
     "name": "stdout",
     "output_type": "stream",
     "text": [
      "enter the number:2\n",
      "2 is a Prime number\n"
     ]
    }
   ],
   "source": [
    "#Write a python program to find whether a number is prime or composite.\n",
    "number=int(input(\"enter the number:\"))\n",
    "if number > 1:\n",
    "    for i in range(2,int(number/2)+1):\n",
    "        if (number % i == 0):\n",
    "            print(number, \"is not a Prime Number\")\n",
    "            break\n",
    "    else:\n",
    "        print(number,\"is a Prime number\")\n",
    "# If the number is less than 1 it can't be Prime\n",
    "else:\n",
    "    print(number,\"is not a Prime number\")"
   ]
  },
  {
   "cell_type": "code",
   "execution_count": 15,
   "id": "3e9733cf",
   "metadata": {},
   "outputs": [
    {
     "name": "stdout",
     "output_type": "stream",
     "text": [
      "Enter the string: mom\n",
      "Method 1\n",
      "It is a palindrome \n"
     ]
    }
   ],
   "source": [
    "#Write a python program to check whether a given string is palindrome or not\n",
    "def check_palindrome(string):\n",
    "    length = len(string)\n",
    "    first = 0\n",
    "    last = length -1 \n",
    "    status = 1\n",
    "    while(first<last):\n",
    "           if(string[first]==string[last]):\n",
    "               first=first+1\n",
    "               last=last-1\n",
    "           else:\n",
    "               status = 0\n",
    "               break\n",
    "    return int(status)  \n",
    "string = input(\"Enter the string: \")\n",
    "print(\"Method 1\")\n",
    "status= check_palindrome(string)\n",
    "if(status):\n",
    "    print(\"It is a palindrome \")\n",
    "else:\n",
    "    print(\"Sorry! Try again\")"
   ]
  },
  {
   "cell_type": "code",
   "execution_count": 16,
   "id": "8e951d5c",
   "metadata": {},
   "outputs": [
    {
     "name": "stdout",
     "output_type": "stream",
     "text": [
      "Enter the string: vidhem\n",
      "Method 1\n",
      "Sorry! Try again\n"
     ]
    }
   ],
   "source": [
    "def check_palindrome(string):\n",
    "    length = len(string)\n",
    "    first = 0\n",
    "    last = length -1 \n",
    "    status = 1\n",
    "    while(first<last):\n",
    "           if(string[first]==string[last]):\n",
    "               first=first+1\n",
    "               last=last-1\n",
    "           else:\n",
    "               status = 0\n",
    "               break\n",
    "    return int(status)  \n",
    "string = input(\"Enter the string: \")\n",
    "print(\"Method 1\")\n",
    "status= check_palindrome(string)\n",
    "if(status):\n",
    "    print(\"It is a palindrome \")\n",
    "else:\n",
    "    print(\"Sorry! Try again\")"
   ]
  },
  {
   "cell_type": "code",
   "execution_count": 18,
   "id": "27545cfe",
   "metadata": {},
   "outputs": [
    {
     "name": "stdout",
     "output_type": "stream",
     "text": [
      "Hypotenuse = 9.219544457292887\n",
      "Adjacent = 5.291502622129181\n",
      "Opposite = 3.872983346207417\n",
      "You know the answer!\n"
     ]
    }
   ],
   "source": [
    "#Write a Python program to get the third side of right-angled triangle from two given sides\n",
    "def pythagoras(opposite_side,adjacent_side,hypotenuse):\n",
    "        if opposite_side == str(\"x\"):\n",
    "            return (\"Opposite = \" + str(((hypotenuse**2) - (adjacent_side**2))**0.5))\n",
    "        elif adjacent_side == str(\"x\"):\n",
    "            return (\"Adjacent = \" + str(((hypotenuse**2) - (opposite_side**2))**0.5))\n",
    "        elif hypotenuse == str(\"x\"):\n",
    "            return (\"Hypotenuse = \" + str(((opposite_side**2) + (adjacent_side**2))**0.5))\n",
    "        else:\n",
    "            return \"You know the answer!\"\n",
    "    \n",
    "print(pythagoras(6,7,'x'))\n",
    "print(pythagoras(6,'x',8))\n",
    "print(pythagoras('x',7,8))\n",
    "print(pythagoras(6,7,8))"
   ]
  },
  {
   "cell_type": "code",
   "execution_count": 24,
   "id": "07e2a118",
   "metadata": {},
   "outputs": [
    {
     "name": "stdout",
     "output_type": "stream",
     "text": [
      "Given String:  my name is kajal panwar\n",
      "Frequency of each character :\n",
      "  {'m': 2, 'y': 1, ' ': 4, 'n': 2, 'a': 5, 'e': 1, 'i': 1, 's': 1, 'k': 1, 'j': 1, 'l': 1, 'p': 1, 'w': 1, 'r': 1}\n"
     ]
    }
   ],
   "source": [
    "#Write a python program to print the frequency of each of the characters present in a given string\n",
    "strA = \"my name is kajal panwar\"\n",
    "print(\"Given String: \",strA)\n",
    "# Using counter\n",
    "res = {}\n",
    "\n",
    "for keys in strA:\n",
    "    res[keys] = res.get(keys, 0) + 1\n",
    "\n",
    "# Result\n",
    "print(\"Frequency of each character :\\n \",res)"
   ]
  },
  {
   "cell_type": "code",
   "execution_count": null,
   "id": "ebfc53d6",
   "metadata": {},
   "outputs": [],
   "source": []
  }
 ],
 "metadata": {
  "kernelspec": {
   "display_name": "Python 3 (ipykernel)",
   "language": "python",
   "name": "python3"
  },
  "language_info": {
   "codemirror_mode": {
    "name": "ipython",
    "version": 3
   },
   "file_extension": ".py",
   "mimetype": "text/x-python",
   "name": "python",
   "nbconvert_exporter": "python",
   "pygments_lexer": "ipython3",
   "version": "3.9.7"
  }
 },
 "nbformat": 4,
 "nbformat_minor": 5
}
